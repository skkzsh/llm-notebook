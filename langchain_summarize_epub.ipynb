{
  "cells": [
    {
      "cell_type": "markdown",
      "metadata": {
        "id": "view-in-github",
        "colab_type": "text"
      },
      "source": [
        "<a href=\"https://colab.research.google.com/github/skkzsh/llm-notebook/blob/main/langchain_summarize_epub.ipynb\" target=\"_parent\"><img src=\"https://colab.research.google.com/assets/colab-badge.svg\" alt=\"Open In Colab\"/></a>"
      ]
    },
    {
      "cell_type": "markdown",
      "source": [
        "# これは何？\n",
        "LangChainに本 (EPub) を要約してもらいます.\n",
        "\n",
        "# 準備"
      ],
      "metadata": {
        "collapsed": false,
        "id": "Qf81Zfz7Zdo_"
      }
    },
    {
      "cell_type": "markdown",
      "source": [
        "まずモジュールをインストールします."
      ],
      "metadata": {
        "id": "tNzdK0-IXHqo"
      }
    },
    {
      "cell_type": "code",
      "execution_count": null,
      "outputs": [],
      "source": [
        "!pip install openai tiktoken langchain unstructured"
      ],
      "metadata": {
        "id": "Zh5jXKwrZdpC"
      }
    },
    {
      "cell_type": "markdown",
      "source": [
        "# EPub\n",
        "ココでは例として [process_book.epub](https://github.com/Shinpeim/process-book/tree/master/release) を使います.  \n",
        "Google Driveにダウンロードしてください.  \n",
        "\n",
        "Google DriveをColabにmountします."
      ],
      "metadata": {
        "collapsed": false,
        "id": "HVv_INnVZdpF"
      }
    },
    {
      "cell_type": "code",
      "source": [
        "from google.colab import drive\n",
        "drive.mount('/content/drive')"
      ],
      "metadata": {
        "id": "fpS6e7-kbIUM"
      },
      "execution_count": null,
      "outputs": []
    },
    {
      "cell_type": "markdown",
      "source": [
        "EPubファイルを配置したパスを変数として定義しておきます."
      ],
      "metadata": {
        "id": "FeIj3zQeYxRe"
      }
    },
    {
      "cell_type": "code",
      "execution_count": null,
      "outputs": [],
      "source": [
        "epub = '/content/drive/MyDrive/process_book.epub'"
      ],
      "metadata": {
        "id": "m_cH06Y4ZdpF"
      }
    },
    {
      "cell_type": "markdown",
      "source": [
        "# EPubをロード\n",
        "[`UnstructuredEPubLoader`](https://python.langchain.com/en/latest/modules/indexes/document_loaders/examples/epub.html) で, EPubファイルをロードできます."
      ],
      "metadata": {
        "collapsed": false,
        "id": "KE_TwxW-ZdpG"
      }
    },
    {
      "cell_type": "code",
      "execution_count": null,
      "metadata": {
        "id": "vWD2GjFTZdpG"
      },
      "outputs": [],
      "source": [
        "%%time\n",
        "from langchain.document_loaders import UnstructuredEPubLoader\n",
        "\n",
        "loader = UnstructuredEPubLoader(epub)\n",
        "docs = loader.load_and_split()"
      ]
    },
    {
      "cell_type": "markdown",
      "source": [
        "ロードした結果を出力すると, EPubファイルの内容が格納されていることが分かります."
      ],
      "metadata": {
        "collapsed": false,
        "id": "jWhyVObcZdpG"
      }
    },
    {
      "cell_type": "code",
      "execution_count": null,
      "metadata": {
        "id": "KXD6Nb5kZdpH"
      },
      "outputs": [],
      "source": [
        "docs"
      ]
    },
    {
      "cell_type": "markdown",
      "source": [
        "分割されています."
      ],
      "metadata": {
        "collapsed": false,
        "id": "qmGYA05mZdpH"
      }
    },
    {
      "cell_type": "code",
      "execution_count": null,
      "metadata": {
        "id": "DhCZRvyWZdpH"
      },
      "outputs": [],
      "source": [
        "len(docs)"
      ]
    },
    {
      "cell_type": "markdown",
      "source": [
        "# 要約させる\n",
        "`OPENAI_API_KEY` を設定します."
      ],
      "metadata": {
        "collapsed": false,
        "id": "deTx27A1ZdpI"
      }
    },
    {
      "cell_type": "code",
      "execution_count": null,
      "metadata": {
        "id": "pd4ilwnrZdpI"
      },
      "outputs": [],
      "source": [
        "%env OPENAI_API_KEY="
      ]
    },
    {
      "cell_type": "markdown",
      "source": [
        "モデルには gpt-3.5-turbo を使います."
      ],
      "metadata": {
        "collapsed": false,
        "id": "Qu7laShTZdpI"
      }
    },
    {
      "cell_type": "code",
      "execution_count": null,
      "metadata": {
        "id": "U0tAQ-EtZdpI"
      },
      "outputs": [],
      "source": [
        "from langchain.chat_models import ChatOpenAI\n",
        "\n",
        "llm = ChatOpenAI(temperature=0, model_name=\"gpt-3.5-turbo\")"
      ]
    },
    {
      "cell_type": "markdown",
      "source": [
        "[`load_summarize_chain`](https://python.langchain.com/en/latest/modules/chains/index_examples/summarize.html) で要約ができます.  \n",
        "`chain_type` は `map_reduce` を指定してます.  \n",
        "処理経過も確認するために `verbose` を `True` にしておきます (以降も同様)."
      ],
      "metadata": {
        "collapsed": false,
        "id": "Vy_SeA83ZdpJ"
      }
    },
    {
      "cell_type": "code",
      "execution_count": null,
      "metadata": {
        "id": "CstcPxOEZdpJ"
      },
      "outputs": [],
      "source": [
        "from langchain.chains.summarize import load_summarize_chain\n",
        "\n",
        "summary_chain = load_summarize_chain(\n",
        "    llm,\n",
        "    chain_type=\"map_reduce\",\n",
        "    verbose=True,\n",
        ")"
      ]
    },
    {
      "cell_type": "markdown",
      "source": [
        "要約を実行します."
      ],
      "metadata": {
        "collapsed": false,
        "id": "dtAYNAGzZdpJ"
      }
    },
    {
      "cell_type": "code",
      "execution_count": null,
      "outputs": [],
      "source": [
        "%%time\n",
        "summary = summary_chain.run(docs)"
      ],
      "metadata": {
        "id": "5LlCV3nyZdpJ"
      }
    },
    {
      "cell_type": "markdown",
      "source": [
        "要約結果を出力します."
      ],
      "metadata": {
        "collapsed": false,
        "id": "NRJqMAtTZdpK"
      }
    },
    {
      "cell_type": "code",
      "execution_count": null,
      "outputs": [],
      "source": [
        "summary"
      ],
      "metadata": {
        "id": "exhipNtVZdpK"
      }
    },
    {
      "cell_type": "markdown",
      "source": [
        "しかし, 要約結果が英語で返ってきました.\n",
        "\n",
        "# 日本語訳するプロンプトへ連鎖させる\n",
        "そこで, 要約結果を日本語訳するプロンプトに渡すように実装します.  \n",
        "まず, 日本語訳するプロンプトを作ります."
      ],
      "metadata": {
        "collapsed": false,
        "id": "2uBq9xpcZdpK"
      }
    },
    {
      "cell_type": "code",
      "execution_count": null,
      "metadata": {
        "id": "Vq-atsvuZdpK"
      },
      "outputs": [],
      "source": [
        "from langchain import PromptTemplate\n",
        "from langchain.chains import LLMChain\n",
        "\n",
        "template = \"\"\"\n",
        "以下の文章を日本語にしてください。\n",
        "{text}\n",
        "\"\"\"\n",
        "\n",
        "prompt_template = PromptTemplate(\n",
        "    template=template,\n",
        "    input_variables=[\"text\"],\n",
        ")\n",
        "\n",
        "ja_chain = LLMChain(\n",
        "    llm=llm,\n",
        "    prompt=prompt_template,\n",
        "    verbose=True,\n",
        ")"
      ]
    },
    {
      "cell_type": "markdown",
      "source": [
        "[`SimpleSequentialChain`](https://python.langchain.com/en/latest/modules/chains/generic/sequential_chains.html) で, 要約するプロンプトの結果を, 日本語訳するプロンプトの入力として渡します."
      ],
      "metadata": {
        "collapsed": false,
        "id": "4M3YW5l1ZdpK"
      }
    },
    {
      "cell_type": "code",
      "execution_count": null,
      "metadata": {
        "id": "Z_CaftfhZdpL"
      },
      "outputs": [],
      "source": [
        "from langchain.chains import SimpleSequentialChain\n",
        "\n",
        "ja_summary_chain = SimpleSequentialChain(\n",
        "    chains=[summary_chain, ja_chain],\n",
        "    verbose=True,\n",
        ")"
      ]
    },
    {
      "cell_type": "markdown",
      "source": [
        "要約を実行します."
      ],
      "metadata": {
        "collapsed": false,
        "id": "sB1e1fWAZdpL"
      }
    },
    {
      "cell_type": "code",
      "execution_count": null,
      "outputs": [],
      "source": [
        "%%time\n",
        "ja_summary = ja_summary_chain.run(docs)"
      ],
      "metadata": {
        "id": "lXJfm1zLZdpL"
      }
    },
    {
      "cell_type": "markdown",
      "source": [
        "要約結果を出力します."
      ],
      "metadata": {
        "collapsed": false,
        "id": "Vf8ws_ykZdpL"
      }
    },
    {
      "cell_type": "code",
      "execution_count": null,
      "metadata": {
        "id": "PFSIGD_KZdpL"
      },
      "outputs": [],
      "source": [
        "ja_summary"
      ]
    },
    {
      "cell_type": "markdown",
      "source": [
        "要約結果が日本語で得られました."
      ],
      "metadata": {
        "collapsed": false,
        "id": "tljmtzaKZdpL"
      }
    },
    {
      "cell_type": "markdown",
      "source": [
        "# ライセンス\n",
        "[![クリエイティブ・コモンズ・ライセンス](http://i.creativecommons.org/l/by-sa/3.0/88x31.png)](http://creativecommons.org/licenses/by-sa/3.0/deed.ja)\n",
        "このノートは[クリエイティブ・コモンズ 表示 - 継承 3.0 非移植 ライセンス](http://creativecommons.org/licenses/by-sa/3.0/deed.ja)の下で公開します."
      ],
      "metadata": {
        "collapsed": false,
        "id": "8vGqrfFLZdpM"
      }
    }
  ],
  "metadata": {
    "kernelspec": {
      "display_name": "Python 3 (ipykernel)",
      "language": "python",
      "name": "python3"
    },
    "language_info": {
      "codemirror_mode": {
        "name": "ipython",
        "version": 3
      },
      "file_extension": ".py",
      "mimetype": "text/x-python",
      "name": "python",
      "nbconvert_exporter": "python",
      "pygments_lexer": "ipython3",
      "version": "3.9.16"
    },
    "colab": {
      "provenance": [],
      "include_colab_link": true
    }
  },
  "nbformat": 4,
  "nbformat_minor": 0
}